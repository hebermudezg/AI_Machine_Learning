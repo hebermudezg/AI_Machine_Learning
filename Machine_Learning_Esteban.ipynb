{
  "nbformat": 4,
  "nbformat_minor": 0,
  "metadata": {
    "colab": {
      "name": "Machine Learning Esteban.ipynb",
      "version": "0.3.2",
      "provenance": [],
      "include_colab_link": true
    },
    "kernelspec": {
      "name": "python3",
      "display_name": "Python 3"
    }
  },
  "cells": [
    {
      "cell_type": "markdown",
      "metadata": {
        "id": "view-in-github",
        "colab_type": "text"
      },
      "source": [
        "<a href=\"https://colab.research.google.com/github/hebermudezg/Machine-Learning/blob/master/Machine_Learning_Esteban.ipynb\" target=\"_parent\"><img src=\"https://colab.research.google.com/assets/colab-badge.svg\" alt=\"Open In Colab\"/></a>"
      ]
    },
    {
      "cell_type": "markdown",
      "metadata": {
        "id": "ESbqIW11dhzB",
        "colab_type": "text"
      },
      "source": [
        "# Inteligencia Artificial"
      ]
    },
    {
      "cell_type": "markdown",
      "metadata": {
        "id": "nrha3SBqd_NC",
        "colab_type": "text"
      },
      "source": [
        "Investigadores de IA creen que la mejor manera de hacia ese objetivo es a través de **algoritmos de aprendizaje** que intentan imitar cómo el cerebro humano aprende"
      ]
    },
    {
      "cell_type": "markdown",
      "metadata": {
        "id": "T_Om6Matd60v",
        "colab_type": "text"
      },
      "source": [
        "# Machine Learning"
      ]
    },
    {
      "cell_type": "code",
      "metadata": {
        "id": "uO9WYRDbf3pa",
        "colab_type": "code",
        "colab": {}
      },
      "source": [
        ""
      ],
      "execution_count": 0,
      "outputs": []
    }
  ]
}