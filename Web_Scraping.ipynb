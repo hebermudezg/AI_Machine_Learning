{
  "nbformat": 4,
  "nbformat_minor": 0,
  "metadata": {
    "colab": {
      "name": "Web_Scraping.ipynb",
      "provenance": [],
      "collapsed_sections": [],
      "toc_visible": true,
      "include_colab_link": true
    },
    "kernelspec": {
      "name": "python3",
      "display_name": "Python 3"
    }
  },
  "cells": [
    {
      "cell_type": "markdown",
      "metadata": {
        "id": "view-in-github",
        "colab_type": "text"
      },
      "source": [
        "<a href=\"https://colab.research.google.com/github/hebermudezg/AI_Machine_Learning/blob/master/Web_Scraping.ipynb\" target=\"_parent\"><img src=\"https://colab.research.google.com/assets/colab-badge.svg\" alt=\"Open In Colab\"/></a>"
      ]
    },
    {
      "cell_type": "markdown",
      "metadata": {
        "id": "uuoPlGSl1oTR",
        "colab_type": "text"
      },
      "source": [
        "# ¿Qué es web scraping?\n",
        "Un web scraping es una herramienta que permite visitar sitios web, analizar su contenido y obtener información.\n",
        "\n",
        "* Indexar la web (google)\n",
        "\n",
        "## Librerias\n",
        "\n",
        "* requests  (Nos permite hacer solicitudes y extraer contenido html de sitios web)\n",
        "\n",
        "* beautifilsoup (Obtener el string de html.\n",
        "\n",
        "![texto alternativo](https://imgs.xkcd.com/static/howto_release_5.png)\n",
        "\n",
        "\n"
      ]
    },
    {
      "cell_type": "markdown",
      "metadata": {
        "id": "snKQLp7m1-ZG",
        "colab_type": "text"
      },
      "source": [
        "Pagina web.\n",
        "\n",
        "https://xkcd.com/"
      ]
    },
    {
      "cell_type": "code",
      "metadata": {
        "id": "mt8UUZk01rJz",
        "colab_type": "code",
        "colab": {}
      },
      "source": [
        "# Importando librerias\n",
        "\n",
        "import requests\n",
        "from bs4 import BeautifulSoup\n",
        "import urllib\n"
      ],
      "execution_count": 0,
      "outputs": []
    },
    {
      "cell_type": "code",
      "metadata": {
        "id": "WgAtCc953tvl",
        "colab_type": "code",
        "colab": {
          "base_uri": "https://localhost:8080/",
          "height": 102
        },
        "outputId": "8ab337d9-a677-44de-f584-50aed5ecaadc"
      },
      "source": [
        "# queremos la imagen del 1 al 5\n",
        "for i in range(1, 6):\n",
        "  response = requests.get('https://xkcd.com/{}'.format(i)) #método get para obtener información de los servidores (otros metodos:post, delete, put)\n",
        "  # parsear: el contenido del documento, generamos instancia y accedemos al atributo content de la respuesta (parsear html)\n",
        "  soup = BeautifulSoup(response.content, \"html.parser\")\n",
        "  # accedamos a la etiqueta div que contiene la imagen\n",
        "  image_container = soup.find(id='comic')\n",
        "  # ahora si accedemos a la etiqueta img al atributo src (que contiene la url de la imagen)\n",
        "  image_url = image_container.find('img')['src']\n",
        "  image_name = image_url.split('/')[-1] #[-1] para acceder al último elemento\n",
        "  # guardemos la imagenes (las imagenes no tien https hay que agregarselo es un dominio seguro https)\n",
        "  print('Descargando la imagen {}'.format(image_name))\n",
        "  urllib.request.urlretrieve('https:{}'.format(image_url), image_name)\n",
        "  \n",
        "  "
      ],
      "execution_count": 4,
      "outputs": [
        {
          "output_type": "stream",
          "text": [
            "Descargando la imagen barrel_cropped_(1).jpg\n",
            "Descargando la imagen tree_cropped_(1).jpg\n",
            "Descargando la imagen island_color.jpg\n",
            "Descargando la imagen landscape_cropped_(1).jpg\n",
            "Descargando la imagen blownapart_color.jpg\n"
          ],
          "name": "stdout"
        }
      ]
    }
  ]
}